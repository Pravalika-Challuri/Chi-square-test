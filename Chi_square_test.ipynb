{
  "nbformat": 4,
  "nbformat_minor": 0,
  "metadata": {
    "colab": {
      "provenance": [],
      "authorship_tag": "ABX9TyNvqj7AuDajZReP1Lgg8GuY",
      "include_colab_link": true
    },
    "kernelspec": {
      "name": "python3",
      "display_name": "Python 3"
    },
    "language_info": {
      "name": "python"
    }
  },
  "cells": [
    {
      "cell_type": "markdown",
      "metadata": {
        "id": "view-in-github",
        "colab_type": "text"
      },
      "source": [
        "<a href=\"https://colab.research.google.com/github/Pravalika-Challuri/Chi-square-test/blob/main/Chi_square_test.ipynb\" target=\"_parent\"><img src=\"https://colab.research.google.com/assets/colab-badge.svg\" alt=\"Open In Colab\"/></a>"
      ]
    },
    {
      "cell_type": "code",
      "execution_count": 1,
      "metadata": {
        "id": "ygQVfn_iSVm8"
      },
      "outputs": [],
      "source": [
        "import numpy as np"
      ]
    },
    {
      "cell_type": "code",
      "source": [
        "from scipy.stats import chi2"
      ],
      "metadata": {
        "id": "DYbXvzM4Sno9"
      },
      "execution_count": 4,
      "outputs": []
    },
    {
      "cell_type": "code",
      "source": [
        "#observed frequencies\n",
        "observed = np.array([[50,70],  #Very satisfied\n",
        "                     [80,100], #Satisfied\n",
        "                     [60,90],  #Neutral\n",
        "                     [30,50],  #Unsatisfied\n",
        "                     [20,50]]) #Very Unsatisfied"
      ],
      "metadata": {
        "id": "c62pRBxdTBoq"
      },
      "execution_count": 5,
      "outputs": []
    },
    {
      "cell_type": "code",
      "source": [
        "#Step 1:calculate the row totals and column totals\n",
        "row_totals=np.sum(observed,axis=1)\n",
        "col_totals=np.sum(observed,axis=0)\n",
        "grand_total=np.sum(row_totals)"
      ],
      "metadata": {
        "id": "7r0q0savVYTV"
      },
      "execution_count": 7,
      "outputs": []
    },
    {
      "cell_type": "code",
      "source": [
        "#Step 2:compute excepted frequencies\n",
        "excepted=np.outer(row_totals,col_totals)/grand_total"
      ],
      "metadata": {
        "id": "bGu5E6sCWGfa"
      },
      "execution_count": 8,
      "outputs": []
    },
    {
      "cell_type": "code",
      "source": [
        "\n",
        "\n",
        "# Step 3: Compute the Chi-Square statistic\n",
        "chi_square_statistic = ((observed - expected) ** 2 / expected).sum()\n",
        "print(f\"Chi-Square Statistic: {chi_square_statistic}\")\n",
        "\n",
        "# Step 4: Determine the degrees of freedom (df)\n",
        "# Degrees of freedom: (rows - 1) * (columns - 1)\n",
        "df = (observed.shape[0] - 1) * (observed.shape[1] - 1)\n",
        "print(f\"Degrees of Freedom: {df}\")\n",
        "\n",
        "# Step 5: Find the critical value for alpha = 0.05\n",
        "alpha = 0.05\n",
        "critical_value = chi2.ppf(1 - alpha, df)\n",
        "print(f\"Critical Value: {critical_value}\")\n",
        "\n",
        "# Step 6: Make the decision\n",
        "if chi_square_statistic > critical_value:\n",
        "    print(\"Reject the null hypothesis. There is a significant association between device type and customer satisfaction.\")\n",
        "else:\n",
        "    print(\"Fail to reject the null hypothesis. There is no significant association between device type and customer satisfaction.\")\n"
      ],
      "metadata": {
        "colab": {
          "base_uri": "https://localhost:8080/"
        },
        "id": "eh38C7uGWrqK",
        "outputId": "a694ef63-f708-4a34-c330-d1c48ab25b08"
      },
      "execution_count": 9,
      "outputs": [
        {
          "output_type": "stream",
          "name": "stdout",
          "text": [
            "Chi-Square Statistic: 5.638227513227513\n",
            "Degrees of Freedom: 4\n",
            "Critical Value: 9.487729036781154\n",
            "Fail to reject the null hypothesis. There is no significant association between device type and customer satisfaction.\n"
          ]
        }
      ]
    }
  ]
}